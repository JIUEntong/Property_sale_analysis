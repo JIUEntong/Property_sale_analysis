{
 "cells": [
  {
   "cell_type": "markdown",
   "metadata": {},
   "source": [
    "### View Dataset"
   ]
  },
  {
   "cell_type": "code",
   "execution_count": 35,
   "metadata": {},
   "outputs": [
    {
     "name": "stdout",
     "output_type": "stream",
     "text": [
      "(17030, 15)\n",
      "['Township', 'PIN', 'Class', 'Address', 'Grantor', 'Grantee', 'Sale Type', 'SaleDate', 'Sale Price', 'Notes', 'Latitude', 'Longitude', 'Year', 'Month', 'Quarter']\n"
     ]
    },
    {
     "data": {
      "text/html": [
       "<div>\n",
       "<style>\n",
       "    .dataframe thead tr:only-child th {\n",
       "        text-align: right;\n",
       "    }\n",
       "\n",
       "    .dataframe thead th {\n",
       "        text-align: left;\n",
       "    }\n",
       "\n",
       "    .dataframe tbody tr th {\n",
       "        vertical-align: top;\n",
       "    }\n",
       "</style>\n",
       "<table border=\"1\" class=\"dataframe\">\n",
       "  <thead>\n",
       "    <tr style=\"text-align: right;\">\n",
       "      <th></th>\n",
       "      <th>Township</th>\n",
       "      <th>PIN</th>\n",
       "      <th>Class</th>\n",
       "      <th>Address</th>\n",
       "      <th>Grantor</th>\n",
       "      <th>Grantee</th>\n",
       "      <th>Sale Type</th>\n",
       "      <th>SaleDate</th>\n",
       "      <th>Sale Price</th>\n",
       "      <th>Notes</th>\n",
       "      <th>Latitude</th>\n",
       "      <th>Longitude</th>\n",
       "      <th>Year</th>\n",
       "      <th>Month</th>\n",
       "      <th>Quarter</th>\n",
       "    </tr>\n",
       "  </thead>\n",
       "  <tbody>\n",
       "    <tr>\n",
       "      <th>0</th>\n",
       "      <td>BURRITT</td>\n",
       "      <td>10-03-300-005</td>\n",
       "      <td>RURAL IMPROVED</td>\n",
       "      <td>CEMETERY RD</td>\n",
       "      <td>MC DERMOTT STEVEN</td>\n",
       "      <td>KINGSBURY SEAN K</td>\n",
       "      <td>MULTI</td>\n",
       "      <td>9/23/15</td>\n",
       "      <td>193,000</td>\n",
       "      <td>WARRANTY DEED</td>\n",
       "      <td>42.363380</td>\n",
       "      <td>-89.205514</td>\n",
       "      <td>2015</td>\n",
       "      <td>9</td>\n",
       "      <td>3</td>\n",
       "    </tr>\n",
       "    <tr>\n",
       "      <th>1</th>\n",
       "      <td>BURRITT</td>\n",
       "      <td>10-03-300-006</td>\n",
       "      <td>RURAL IMPROVED</td>\n",
       "      <td>9473  CEMETERY RD</td>\n",
       "      <td>NOWICKI JENNIFER</td>\n",
       "      <td>KINGSBURY SEAN K</td>\n",
       "      <td>MULTI</td>\n",
       "      <td>9/23/15</td>\n",
       "      <td>193,000</td>\n",
       "      <td>WARRANTY DEED</td>\n",
       "      <td>42.363320</td>\n",
       "      <td>-89.223087</td>\n",
       "      <td>2015</td>\n",
       "      <td>9</td>\n",
       "      <td>3</td>\n",
       "    </tr>\n",
       "    <tr>\n",
       "      <th>2</th>\n",
       "      <td>BURRITT</td>\n",
       "      <td>10-05-400-007</td>\n",
       "      <td>RURAL LAND</td>\n",
       "      <td>CHRISTIAN RD</td>\n",
       "      <td>MC GLONE ANN L TR</td>\n",
       "      <td>OLIVER SEAN</td>\n",
       "      <td>MULTI</td>\n",
       "      <td>8/4/15</td>\n",
       "      <td>75,000</td>\n",
       "      <td>TRUSTEE'S DEED, NOT\\rEXPOSED TO OPEN MRKT</td>\n",
       "      <td>42.301555</td>\n",
       "      <td>-89.147751</td>\n",
       "      <td>2015</td>\n",
       "      <td>8</td>\n",
       "      <td>3</td>\n",
       "    </tr>\n",
       "    <tr>\n",
       "      <th>3</th>\n",
       "      <td>BURRITT</td>\n",
       "      <td>10-08-200-003</td>\n",
       "      <td>RURAL IMPROVED</td>\n",
       "      <td>10621  CEMETERY RD</td>\n",
       "      <td>SULLIVAN JAMES E TRUST</td>\n",
       "      <td>OLIVER SEAN</td>\n",
       "      <td>MULTI</td>\n",
       "      <td>8/4/15</td>\n",
       "      <td>75,000</td>\n",
       "      <td>TRUSTEE'S DEED, NOT\\rEXPOSED TO OPEN MRKT</td>\n",
       "      <td>42.362106</td>\n",
       "      <td>-89.245893</td>\n",
       "      <td>2015</td>\n",
       "      <td>8</td>\n",
       "      <td>3</td>\n",
       "    </tr>\n",
       "    <tr>\n",
       "      <th>4</th>\n",
       "      <td>BURRITT</td>\n",
       "      <td>10-08-200-018</td>\n",
       "      <td>RURAL IMPROVED</td>\n",
       "      <td>10650  CEMETERY RD</td>\n",
       "      <td>JOHNSON DEBRA L</td>\n",
       "      <td>COMBS SUSAN</td>\n",
       "      <td>PASMT</td>\n",
       "      <td>11/23/15</td>\n",
       "      <td>175,000</td>\n",
       "      <td>NaN</td>\n",
       "      <td>42.360278</td>\n",
       "      <td>-89.245793</td>\n",
       "      <td>2015</td>\n",
       "      <td>11</td>\n",
       "      <td>4</td>\n",
       "    </tr>\n",
       "  </tbody>\n",
       "</table>\n",
       "</div>"
      ],
      "text/plain": [
       "  Township            PIN           Class             Address  \\\n",
       "0  BURRITT  10-03-300-005  RURAL IMPROVED         CEMETERY RD   \n",
       "1  BURRITT  10-03-300-006  RURAL IMPROVED   9473  CEMETERY RD   \n",
       "2  BURRITT  10-05-400-007      RURAL LAND        CHRISTIAN RD   \n",
       "3  BURRITT  10-08-200-003  RURAL IMPROVED  10621  CEMETERY RD   \n",
       "4  BURRITT  10-08-200-018  RURAL IMPROVED  10650  CEMETERY RD   \n",
       "\n",
       "                  Grantor           Grantee Sale Type  SaleDate Sale Price  \\\n",
       "0       MC DERMOTT STEVEN  KINGSBURY SEAN K     MULTI   9/23/15    193,000   \n",
       "1        NOWICKI JENNIFER  KINGSBURY SEAN K     MULTI   9/23/15    193,000   \n",
       "2       MC GLONE ANN L TR       OLIVER SEAN     MULTI    8/4/15     75,000   \n",
       "3  SULLIVAN JAMES E TRUST       OLIVER SEAN     MULTI    8/4/15     75,000   \n",
       "4         JOHNSON DEBRA L       COMBS SUSAN     PASMT  11/23/15    175,000   \n",
       "\n",
       "                                       Notes   Latitude  Longitude  Year  \\\n",
       "0                              WARRANTY DEED  42.363380 -89.205514  2015   \n",
       "1                              WARRANTY DEED  42.363320 -89.223087  2015   \n",
       "2  TRUSTEE'S DEED, NOT\\rEXPOSED TO OPEN MRKT  42.301555 -89.147751  2015   \n",
       "3  TRUSTEE'S DEED, NOT\\rEXPOSED TO OPEN MRKT  42.362106 -89.245893  2015   \n",
       "4                                        NaN  42.360278 -89.245793  2015   \n",
       "\n",
       "   Month  Quarter  \n",
       "0      9        3  \n",
       "1      9        3  \n",
       "2      8        3  \n",
       "3      8        3  \n",
       "4     11        4  "
      ]
     },
     "execution_count": 35,
     "metadata": {},
     "output_type": "execute_result"
    }
   ],
   "source": [
    "import pandas as pd\n",
    "import webbrowser\n",
    "import os\n",
    "\n",
    "# Read the dataset into a data table using Pandas\n",
    "data_table = pandas.read_csv(\"housesale.csv\")\n",
    "\n",
    "# Create a web page view of the data for easy viewing\n",
    "html = data_table[0:100].to_html()\n",
    "\n",
    "# Save the html to a temporary file\n",
    "with open(\"data.html\", \"w\") as f:\n",
    "    f.write(html)\n",
    "# Open the web page in our web browser\n",
    "full_filename = os.path.abspath(\"data.html\")\n",
    "webbrowser.open(\"file://{}\".format(full_filename))\n",
    "\n",
    "print(data_table.shape)\n",
    "print(list(data_table.columns))\n",
    "data_table.head()\n"
   ]
  },
  {
   "cell_type": "markdown",
   "metadata": {},
   "source": [
    "### Data exploration and visulization"
   ]
  },
  {
   "cell_type": "code",
   "execution_count": null,
   "metadata": {},
   "outputs": [],
   "source": []
  },
  {
   "cell_type": "markdown",
   "metadata": {},
   "source": [
    "### Train and test data using Gradient boosting algorithm"
   ]
  },
  {
   "cell_type": "code",
   "execution_count": 17,
   "metadata": {},
   "outputs": [
    {
     "data": {
      "text/plain": [
       "Township         0\n",
       "PIN              0\n",
       "Class            1\n",
       "Address          0\n",
       "Grantor          2\n",
       "Grantee          2\n",
       "Sale Type        0\n",
       "SaleDate         0\n",
       "Sale Price       0\n",
       "Notes         9432\n",
       "Latitude       481\n",
       "Longitude      481\n",
       "Year             0\n",
       "Month            0\n",
       "Quarter          0\n",
       "dtype: int64"
      ]
     },
     "execution_count": 17,
     "metadata": {},
     "output_type": "execute_result"
    }
   ],
   "source": [
    "\n",
    "from sklearn.model_selection import train_test_split\n",
    "from sklearn import ensemble\n",
    "from sklearn.metrics import mean_absolute_error\n",
    "from sklearn.externals import joblib\n",
    "\n",
    "# Load the data set\n",
    "df = pd.read_csv(\"housesale.csv\")\n",
    "##checking for missing value\n",
    "df.isnull().sum()\n"
   ]
  },
  {
   "cell_type": "code",
   "execution_count": 18,
   "metadata": {
    "collapsed": true
   },
   "outputs": [],
   "source": [
    "\n",
    "# Remove the fields from the data set that we don't want to include in our model\n",
    "del df['PIN']\n",
    "del df['Address']\n",
    "del df['Grantor']\n",
    "del df['Grantee']\n",
    "del df['SaleDate']\n",
    "del df['Notes']\n",
    "\n"
   ]
  },
  {
   "cell_type": "code",
   "execution_count": 29,
   "metadata": {},
   "outputs": [],
   "source": [
    "# Drop the rows with Null value\n",
    "df.dropna(subset=['Longitude','Latitude','Class' ], inplace=True)\n"
   ]
  },
  {
   "cell_type": "code",
   "execution_count": 34,
   "metadata": {},
   "outputs": [
    {
     "name": "stdout",
     "output_type": "stream",
     "text": [
      "(16548, 9)\n",
      "<class 'str'>\n"
     ]
    }
   ],
   "source": [
    "df.isnull().sum()\n",
    "print(df.shape)\n",
    "print(type('Longitude'))"
   ]
  },
  {
   "cell_type": "code",
   "execution_count": 32,
   "metadata": {},
   "outputs": [
    {
     "ename": "ValueError",
     "evalue": "could not convert string to float: '87,000'",
     "output_type": "error",
     "traceback": [
      "\u001b[0;31m---------------------------------------------------------------------------\u001b[0m",
      "\u001b[0;31mValueError\u001b[0m                                Traceback (most recent call last)",
      "\u001b[0;32m<ipython-input-32-c8cb0d1eaff6>\u001b[0m in \u001b[0;36m<module>\u001b[0;34m()\u001b[0m\n\u001b[1;32m     22\u001b[0m     \u001b[0mrandom_state\u001b[0m\u001b[0;34m=\u001b[0m\u001b[0;36m0\u001b[0m\u001b[0;34m\u001b[0m\u001b[0m\n\u001b[1;32m     23\u001b[0m )\n\u001b[0;32m---> 24\u001b[0;31m \u001b[0mmodel\u001b[0m\u001b[0;34m.\u001b[0m\u001b[0mfit\u001b[0m\u001b[0;34m(\u001b[0m\u001b[0mX_train\u001b[0m\u001b[0;34m,\u001b[0m \u001b[0my_train\u001b[0m\u001b[0;34m)\u001b[0m\u001b[0;34m\u001b[0m\u001b[0m\n\u001b[0m\u001b[1;32m     25\u001b[0m \u001b[0;34m\u001b[0m\u001b[0m\n\u001b[1;32m     26\u001b[0m \u001b[0;31m# Save the trained model to a file so we can use it in other programs\u001b[0m\u001b[0;34m\u001b[0m\u001b[0;34m\u001b[0m\u001b[0m\n",
      "\u001b[0;32m/anaconda3/lib/python3.6/site-packages/sklearn/ensemble/gradient_boosting.py\u001b[0m in \u001b[0;36mfit\u001b[0;34m(self, X, y, sample_weight, monitor)\u001b[0m\n\u001b[1;32m    986\u001b[0m         \u001b[0mcheck_consistent_length\u001b[0m\u001b[0;34m(\u001b[0m\u001b[0mX\u001b[0m\u001b[0;34m,\u001b[0m \u001b[0my\u001b[0m\u001b[0;34m,\u001b[0m \u001b[0msample_weight\u001b[0m\u001b[0;34m)\u001b[0m\u001b[0;34m\u001b[0m\u001b[0m\n\u001b[1;32m    987\u001b[0m \u001b[0;34m\u001b[0m\u001b[0m\n\u001b[0;32m--> 988\u001b[0;31m         \u001b[0my\u001b[0m \u001b[0;34m=\u001b[0m \u001b[0mself\u001b[0m\u001b[0;34m.\u001b[0m\u001b[0m_validate_y\u001b[0m\u001b[0;34m(\u001b[0m\u001b[0my\u001b[0m\u001b[0;34m)\u001b[0m\u001b[0;34m\u001b[0m\u001b[0m\n\u001b[0m\u001b[1;32m    989\u001b[0m \u001b[0;34m\u001b[0m\u001b[0m\n\u001b[1;32m    990\u001b[0m         \u001b[0mrandom_state\u001b[0m \u001b[0;34m=\u001b[0m \u001b[0mcheck_random_state\u001b[0m\u001b[0;34m(\u001b[0m\u001b[0mself\u001b[0m\u001b[0;34m.\u001b[0m\u001b[0mrandom_state\u001b[0m\u001b[0;34m)\u001b[0m\u001b[0;34m\u001b[0m\u001b[0m\n",
      "\u001b[0;32m/anaconda3/lib/python3.6/site-packages/sklearn/ensemble/gradient_boosting.py\u001b[0m in \u001b[0;36m_validate_y\u001b[0;34m(self, y)\u001b[0m\n\u001b[1;32m   1183\u001b[0m         \u001b[0mself\u001b[0m\u001b[0;34m.\u001b[0m\u001b[0mn_classes_\u001b[0m \u001b[0;34m=\u001b[0m \u001b[0;36m1\u001b[0m\u001b[0;34m\u001b[0m\u001b[0m\n\u001b[1;32m   1184\u001b[0m         \u001b[0;32mif\u001b[0m \u001b[0my\u001b[0m\u001b[0;34m.\u001b[0m\u001b[0mdtype\u001b[0m\u001b[0;34m.\u001b[0m\u001b[0mkind\u001b[0m \u001b[0;34m==\u001b[0m \u001b[0;34m'O'\u001b[0m\u001b[0;34m:\u001b[0m\u001b[0;34m\u001b[0m\u001b[0m\n\u001b[0;32m-> 1185\u001b[0;31m             \u001b[0my\u001b[0m \u001b[0;34m=\u001b[0m \u001b[0my\u001b[0m\u001b[0;34m.\u001b[0m\u001b[0mastype\u001b[0m\u001b[0;34m(\u001b[0m\u001b[0mnp\u001b[0m\u001b[0;34m.\u001b[0m\u001b[0mfloat64\u001b[0m\u001b[0;34m)\u001b[0m\u001b[0;34m\u001b[0m\u001b[0m\n\u001b[0m\u001b[1;32m   1186\u001b[0m         \u001b[0;31m# Default implementation\u001b[0m\u001b[0;34m\u001b[0m\u001b[0;34m\u001b[0m\u001b[0m\n\u001b[1;32m   1187\u001b[0m         \u001b[0;32mreturn\u001b[0m \u001b[0my\u001b[0m\u001b[0;34m\u001b[0m\u001b[0m\n",
      "\u001b[0;31mValueError\u001b[0m: could not convert string to float: '87,000'"
     ]
    }
   ],
   "source": [
    "# Replace categorical data with one-hot encoded data\n",
    "features_df = pd.get_dummies(df, columns=['Township', 'Class', 'Sale Type'])\n",
    "\n",
    "# Remove the sale price from the feature data\n",
    "del features_df['Sale Price']\n",
    "\n",
    "# Create the X and y arrays\n",
    "X = features_df.as_matrix()\n",
    "y = df['Sale Price'].as_matrix()\n",
    "\n",
    "# Split the data set in a training set (70%) and a test set (30%)\n",
    "X_train, X_test, y_train, y_test = train_test_split(X, y, test_size=0.3, random_state=0)\n",
    "\n",
    "# Fit regression model\n",
    "model = ensemble.GradientBoostingRegressor(\n",
    "    n_estimators=1000,\n",
    "    learning_rate=0.1,\n",
    "    max_depth=6,\n",
    "    min_samples_leaf=9,\n",
    "    max_features=0.1,\n",
    "    loss='huber',\n",
    "    random_state=0\n",
    ")\n",
    "model.fit(X_train, y_train)\n",
    "\n",
    "# Save the trained model to a file so we can use it in other programs\n",
    "joblib.dump(model, 'trained_house_classifier_model.pkl')\n",
    "\n",
    "# Find the error rate on the training set\n",
    "mse = mean_absolute_error(y_train, model.predict(X_train))\n",
    "print(\"Training Set Mean Absolute Error: %.4f\" % mse)\n",
    "\n",
    "# Find the error rate on the test set\n",
    "mse = mean_absolute_error(y_test, model.predict(X_test))\n",
    "print(\"Test Set Mean Absolute Error: %.4f\" % mse)\n",
    "\n",
    "\n"
   ]
  },
  {
   "cell_type": "code",
   "execution_count": null,
   "metadata": {
    "collapsed": true
   },
   "outputs": [],
   "source": []
  },
  {
   "cell_type": "code",
   "execution_count": null,
   "metadata": {
    "collapsed": true
   },
   "outputs": [],
   "source": []
  }
 ],
 "metadata": {
  "kernelspec": {
   "display_name": "Python 3",
   "language": "python",
   "name": "python3"
  },
  "language_info": {
   "codemirror_mode": {
    "name": "ipython",
    "version": 3
   },
   "file_extension": ".py",
   "mimetype": "text/x-python",
   "name": "python",
   "nbconvert_exporter": "python",
   "pygments_lexer": "ipython3",
   "version": "3.6.3"
  }
 },
 "nbformat": 4,
 "nbformat_minor": 2
}
